{
  "nbformat": 4,
  "nbformat_minor": 0,
  "metadata": {
    "colab": {
      "provenance": [],
      "include_colab_link": true
    },
    "kernelspec": {
      "name": "python3",
      "display_name": "Python 3"
    },
    "language_info": {
      "name": "python"
    },
    "accelerator": "GPU",
    "gpuClass": "standard"
  },
  "cells": [
    {
      "cell_type": "markdown",
      "metadata": {
        "id": "view-in-github",
        "colab_type": "text"
      },
      "source": [
        "<a href=\"https://colab.research.google.com/github/PhooPyae/my_playground/blob/main/VisualChatGPT.ipynb\" target=\"_parent\"><img src=\"https://colab.research.google.com/assets/colab-badge.svg\" alt=\"Open In Colab\"/></a>"
      ]
    },
    {
      "cell_type": "markdown",
      "source": [
        "Download visual-chatgpt\n"
      ],
      "metadata": {
        "id": "yBlt2jfzmE3O"
      }
    },
    {
      "cell_type": "code",
      "source": [
        "!rm -rf TaskMatrix && git clone https://github.com/microsoft/TaskMatrix"
      ],
      "metadata": {
        "id": "Q4YQZaD3xI6y"
      },
      "execution_count": null,
      "outputs": []
    },
    {
      "cell_type": "markdown",
      "source": [
        "Go to directory\n"
      ],
      "metadata": {
        "id": "AWVD0IoQX0Dk"
      }
    },
    {
      "cell_type": "code",
      "source": [
        "cd TaskMatrix/"
      ],
      "metadata": {
        "id": "RAOzak8IXwXZ"
      },
      "execution_count": null,
      "outputs": []
    },
    {
      "cell_type": "markdown",
      "source": [
        "Install packages\n"
      ],
      "metadata": {
        "id": "kC9nZrM-61c6"
      }
    },
    {
      "cell_type": "code",
      "source": [
        "!pip install -r requirements.txt\n",
        "!pip install git+https://github.com/IDEA-Research/GroundingDINO.git\n",
        "!pip install git+https://github.com/facebookresearch/segment-anything.git"
      ],
      "metadata": {
        "id": "Blq5fIEizcnv"
      },
      "execution_count": null,
      "outputs": []
    },
    {
      "cell_type": "markdown",
      "source": [
        "Set your OPENAI_API_KEY\n"
      ],
      "metadata": {
        "id": "j4QdrPN-9Jyl"
      }
    },
    {
      "cell_type": "code",
      "source": [
        "%env OPENAI_API_KEY=your_key"
      ],
      "metadata": {
        "id": "_F_Qv_qj5wd8"
      },
      "execution_count": null,
      "outputs": []
    },
    {
      "cell_type": "markdown",
      "source": [
        "Import dependencies"
      ],
      "metadata": {
        "id": "ZuwRTOtqYYvB"
      }
    },
    {
      "cell_type": "code",
      "source": [
        "from visual_chatgpt import *"
      ],
      "metadata": {
        "id": "5Q3IQ37_BrBx"
      },
      "execution_count": null,
      "outputs": []
    },
    {
      "cell_type": "markdown",
      "source": [
        "Run VisualChatGPT"
      ],
      "metadata": {
        "id": "XRMUM7h47H6M"
      }
    },
    {
      "cell_type": "code",
      "source": [
        "!mkdir -p checkpoints\n",
        "# load = \"ImageCaptioning_cuda:0,Text2Image_cuda:0\"\n",
        "load = \"Text2Box_cuda:0,Segmenting_cuda:0,Inpainting_cuda:0,ImageCaptioning_cuda:0\"\n",
        "\n",
        "load_dict = {e.split('_')[0].strip(): e.split('_')[1].strip() for e in load.split(',')}\n",
        "bot = ConversationBot(load_dict=load_dict)\n",
        "with gr.Blocks(css=\"#chatbot .overflow-y-auto{height:500px}\") as demo:\n",
        "    lang = gr.Radio(choices = ['Chinese','English'], value=None, label='Language')\n",
        "    chatbot = gr.Chatbot(elem_id=\"chatbot\", label=\"Visual ChatGPT\")\n",
        "    state = gr.State([])\n",
        "    with gr.Row(visible=False) as input_raws:\n",
        "        with gr.Column(scale=0.7):\n",
        "            txt = gr.Textbox(show_label=False, placeholder=\"Enter text and press enter, or upload an image\").style(\n",
        "                container=False)\n",
        "        with gr.Column(scale=0.15, min_width=0):\n",
        "            clear = gr.Button(\"Clear️\")\n",
        "        with gr.Column(scale=0.15, min_width=0):\n",
        "            btn = gr.UploadButton(\"🖼️\", file_types=[\"image\"])\n",
        "    lang.change(bot.init_agent, [lang], [input_raws, lang, txt, clear])\n",
        "    txt.submit(bot.run_text, [txt, state], [chatbot, state])\n",
        "    txt.submit(lambda: \"\", None, txt)\n",
        "    btn.upload(bot.run_image, [btn, state, txt, lang], [chatbot, state, txt])\n",
        "    clear.click(bot.memory.clear)\n",
        "    clear.click(lambda: [], None, chatbot)\n",
        "    clear.click(lambda: [], None, state)\n",
        "    demo.launch(server_name=\"0.0.0.0\", server_port=7860, share=True, debug=True)"
      ],
      "metadata": {
        "id": "8nCGkaV0_xBP"
      },
      "execution_count": null,
      "outputs": []
    },
    {
      "cell_type": "code",
      "source": [
        "!ps -aux | grep \"python\"\n",
        "# !kill -9 7507"
      ],
      "metadata": {
        "id": "pfsB6JV39qQO"
      },
      "execution_count": null,
      "outputs": []
    }
  ]
}